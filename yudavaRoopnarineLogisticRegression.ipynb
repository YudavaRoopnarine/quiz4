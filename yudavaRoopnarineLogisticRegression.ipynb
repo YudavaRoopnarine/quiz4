{
  "nbformat": 4,
  "nbformat_minor": 0,
  "metadata": {
    "colab": {
      "name": "yudavaRoopnarineLogisticRegression.ipynb",
      "provenance": [],
      "authorship_tag": "ABX9TyO8TDzNiVuPEDLFtfHSdLTB",
      "include_colab_link": true
    },
    "kernelspec": {
      "name": "python3",
      "display_name": "Python 3"
    },
    "language_info": {
      "name": "python"
    }
  },
  "cells": [
    {
      "cell_type": "markdown",
      "metadata": {
        "id": "view-in-github",
        "colab_type": "text"
      },
      "source": [
        "<a href=\"https://colab.research.google.com/github/oatthegreat/quiz4/blob/main/yudavaRoopnarineLogisticRegression.ipynb\" target=\"_parent\"><img src=\"https://colab.research.google.com/assets/colab-badge.svg\" alt=\"Open In Colab\"/></a>"
      ]
    },
    {
      "cell_type": "markdown",
      "source": [
        "# Introduction"
      ],
      "metadata": {
        "id": "drjFNMB5QG0P"
      }
    },
    {
      "cell_type": "markdown",
      "source": [
        "<h1>Introduction</h1>\n",
        "<p>The problems with the mortgage loan application is wether or not we can predict if the mortgage will be denied. The approach i will use is to use binary logistic regression models to compare and contrast a series</p>"
      ],
      "metadata": {
        "id": "OvtaMdty1SNn"
      }
    },
    {
      "cell_type": "markdown",
      "source": [
        "# Data"
      ],
      "metadata": {
        "id": "UaiivWncQP0G"
      }
    },
    {
      "cell_type": "code",
      "source": [
        "import pandas as pd\n",
        "import numpy as np\n",
        "import seaborn as sns\n",
        "import matplotlib.pyplot as plt\n",
        "from sklearn import preprocessing\n",
        "import statsmodels.api as sm\n",
        "from patsy import dmatrices\n",
        "from sklearn.linear_model import LogisticRegression\n",
        "from sklearn import metrics\n",
        "\n",
        "\n",
        "#retrieving my data\n",
        "df = pd.read_csv('https://raw.githubusercontent.com/oatthegreat/quiz4/main/HDMA%20Boston%20Housing%20Data.csv')\n",
        "\n",
        "#replacing ? with NAN\n",
        "df.replace('?', np.nan, inplace = True)\n",
        "df.replace(0, np.nan, inplace = True)\n",
        "\n",
        "#printing the data\n",
        "print(df.shape)\n",
        "print(df.head())"
      ],
      "metadata": {
        "colab": {
          "base_uri": "https://localhost:8080/"
        },
        "id": "Mos3gL_xQUyg",
        "outputId": "3dcd46e6-38be-48de-fd21-eb8270355883"
      },
      "execution_count": 174,
      "outputs": [
        {
          "output_type": "stream",
          "name": "stdout",
          "text": [
            "(2381, 14)\n",
            "   Unnamed: 0    dir    hir       lvr  ccs  mcs pbcr dmi self single  uria  \\\n",
            "0           1  0.221  0.221  0.800000  5.0  2.0   no  no   no     no   3.9   \n",
            "1           2  0.265  0.265  0.921875  2.0  2.0   no  no   no    yes   3.2   \n",
            "2           3  0.372  0.248  0.920398  1.0  2.0   no  no   no     no   3.2   \n",
            "3           4  0.320  0.250  0.860465  1.0  2.0   no  no   no     no   4.3   \n",
            "4           5  0.360  0.350  0.600000  1.0  1.0   no  no   no     no   3.2   \n",
            "\n",
            "   comdominiom black deny  \n",
            "0          NaN    no   no  \n",
            "1          NaN    no   no  \n",
            "2          NaN    no   no  \n",
            "3          NaN    no   no  \n",
            "4          NaN    no   no  \n"
          ]
        }
      ]
    },
    {
      "cell_type": "code",
      "source": [
        "\n",
        "# Instantiate the encoders\n",
        "encoders = {column: preprocessing.LabelEncoder() for column in df}\n",
        "\n",
        "for column in df:\n",
        "    df[column] = encoders[column].fit_transform(df[column])\n"
      ],
      "metadata": {
        "id": "eC_cLM-ArLcD"
      },
      "execution_count": 175,
      "outputs": []
    },
    {
      "cell_type": "markdown",
      "source": [
        "# Exploratory Data Analysis"
      ],
      "metadata": {
        "id": "pwOsT9YFYq6Z"
      }
    },
    {
      "cell_type": "markdown",
      "source": [
        "<h1>EDA</h1>\n",
        "\n",
        "<ol>\n",
        "  <h3>Attributes in Mortgage</h3>\n",
        "\n",
        "  <li>dir is the debt payments to total income ratio</li>\n",
        "\n",
        "  <li>hir is the housing expenses to income ratio</li>\n",
        "\n",
        "  <li>lvr si the ratio of size of loan to assessed value of property</li>\n",
        "\n",
        "  <li>ccs is the consumer credit score from 1 to 6 (a low value being a good score)</li>\n",
        "\n",
        "  <li>mcs is the mortgage credit score from 1 to 4 (a low value being a good score)</li>\n",
        "\n",
        "  <li>pbcr is the public bad credit record ?</li>\n",
        "\n",
        "  <li>dmi is the denied mortgage insurance ?</li>\n",
        "\n",
        "  <li>self is asking for self employed ?</li>\n",
        "\n",
        "  <li>single is if the applicant single ?</li>\n",
        "\n",
        "  <li>uria is the 1989 Massachusetts unemployment rate in the applicant's industry</li>\n",
        "\n",
        "  <li>condominium is unit a condominium ? (was called comdominiom in version 0.2-9 and earlier versions of the package)</li>\n",
        "\n",
        "  <li>black is if the applicant black? </li>\n",
        "\n",
        "  <li>deny if the mortgage application denied </li>                                  \n",
        "</ol>"
      ],
      "metadata": {
        "id": "ub-vV2rsjyPi"
      }
    },
    {
      "cell_type": "markdown",
      "source": [
        "<h1>Graphs that describe our data</h1>"
      ],
      "metadata": {
        "id": "YuIORVuCtfX0"
      }
    },
    {
      "cell_type": "code",
      "source": [
        "Gphs = df.hist(figsize=(12,12))"
      ],
      "metadata": {
        "colab": {
          "base_uri": "https://localhost:8080/",
          "height": 695
        },
        "id": "M_vg5TGg5zQ7",
        "outputId": "85f40a7d-81d8-4b7e-f91d-56cbbe5c249d"
      },
      "execution_count": 176,
      "outputs": [
        {
          "output_type": "display_data",
          "data": {
            "text/plain": [
              "<Figure size 864x864 with 16 Axes>"
            ],
            "image/png": "[encoded data removed]"
          },
          "metadata": {
            "needs_background": "light"
          }
        }
      ]
    },
    {
      "cell_type": "markdown",
      "source": [
        "# Data Preparation"
      ],
      "metadata": {
        "id": "PgfRz384tm54"
      }
    },
    {
      "cell_type": "markdown",
      "source": [
        "<p>First we find if any are null then we used the dropna function to replace the 0\"s and the fillna method to fill the NAN'S</p>"
      ],
      "metadata": {
        "id": "ni4aSkY8txRD"
      }
    },
    {
      "cell_type": "code",
      "source": [
        "#checking if its null\n",
        "df.isnull().sum()"
      ],
      "metadata": {
        "id": "G9nTUlxUtxwI"
      },
      "execution_count": null,
      "outputs": []
    },
    {
      "cell_type": "code",
      "source": [
        "#Drop values with 0\n",
        "df_drop_example = df.copy()\n",
        "df_drop_example.dropna(axis = 0, inplace = True)\n",
        "print(df_drop_example)"
      ],
      "metadata": {
        "id": "zMg6JpUEOQhS"
      },
      "execution_count": null,
      "outputs": []
    },
    {
      "cell_type": "code",
      "source": [
        "#we will also use fillna prev values to fill the nans\n",
        "df_fill = df.copy()\n",
        "df_fill.fillna(method='pad', limit=1,inplace=True)\n",
        "print(df_fill)"
      ],
      "metadata": {
        "id": "3uT9DuDnusTK"
      },
      "execution_count": null,
      "outputs": []
    },
    {
      "cell_type": "code",
      "source": [
        "#fill empty values with bfill\n",
        "df_fill1 = df.copy()\n",
        "df_fill1.fillna(method='bfill', inplace=True)\n",
        "print(df_fill1)"
      ],
      "metadata": {
        "id": "MPm6DL7xV5Kw"
      },
      "execution_count": null,
      "outputs": []
    },
    {
      "cell_type": "markdown",
      "source": [
        "# Prepped Data Review"
      ],
      "metadata": {
        "id": "Dus-dG6Ow2S9"
      }
    },
    {
      "cell_type": "markdown",
      "source": [
        "<p>We now show the graphs on the new information and has found there is no real differnce in the data set</p>"
      ],
      "metadata": {
        "id": "RTQLDuP87uP9"
      }
    },
    {
      "cell_type": "code",
      "source": [
        "Gphs = df_statfill.hist(figsize=(12,12))"
      ],
      "metadata": {
        "colab": {
          "base_uri": "https://localhost:8080/",
          "height": 695
        },
        "id": "7lYTPr3Aw43Y",
        "outputId": "fa626307-118c-49d5-ca4b-d2be10913b0c"
      },
      "execution_count": 183,
      "outputs": [
        {
          "output_type": "display_data",
          "data": {
            "text/plain": [
              "<Figure size 864x864 with 16 Axes>"
            ],
            "image/png": "[encoded data removed]"
          },
          "metadata": {
            "needs_background": "light"
          }
        }
      ]
    },
    {
      "cell_type": "markdown",
      "source": [
        "# Regression Modeling"
      ],
      "metadata": {
        "id": "G1OWdWcA7nSE"
      }
    },
    {
      "cell_type": "markdown",
      "source": [
        "<h1>Test 1</h1>"
      ],
      "metadata": {
        "id": "g5Z8-Sio7sb1"
      }
    },
    {
      "cell_type": "code",
      "source": [
        "from patsy import dmatrices\n",
        "from sklearn.linear_model import LogisticRegression\n",
        "from sklearn import metrics\n",
        "\n",
        "\n",
        "#use dmatrices to use for our data\n",
        "y, X = dmatrices('dir ~ dmi + hir + lvr + \\\n",
        "                  self + single + C(ccs) + C(mcs)',\n",
        "                  df, return_type=\"dataframe\")\n",
        "print(X.columns)"
      ],
      "metadata": {
        "id": "X8iG7Xrd8KMB"
      },
      "execution_count": null,
      "outputs": []
    },
    {
      "cell_type": "code",
      "source": [
        "# fix column names of X\n",
        "X = X.rename(columns = {'C(ccs)[T.1.0]':'ccs_1',\n",
        "                        'C(ccs)[T.2.0]':'ccs_2',\n",
        "                        'C(ccs)[T.3.0]':'ccs_3',\n",
        "                        'C(ccs)[T.4.0]':'ccs_4',\n",
        "                        'C(ccs)[T.5.0]':'ccs_5',\n",
        "                        'C(ccs)[T.6.0]':'ccs_6',\n",
        "                        'C(mcs)[T.1.0]':'mcs1',\n",
        "                        'C(mcs)[T.2.0]':'mcs2',\n",
        "                        'C(mcs)[T.3.0]':'mcs3',\n",
        "                        'C(mcs)[T.4.0]':'mcs4'})"
      ],
      "metadata": {
        "id": "Ha6KhEO5o46T"
      },
      "execution_count": 188,
      "outputs": []
    },
    {
      "cell_type": "code",
      "source": [
        "# flatten y into a 1-D array\n",
        "y = np.ravel(y)"
      ],
      "metadata": {
        "id": "zQV7Fb8mo8sD"
      },
      "execution_count": 189,
      "outputs": []
    },
    {
      "cell_type": "code",
      "source": [
        "# instantiate a logistic regression model, and fit with X and y\n",
        "model = LogisticRegression()\n",
        "model = model.fit(X, y)\n",
        "\n",
        "# check the accuracy on the training set\n",
        "model.score(X, y)"
      ],
      "metadata": {
        "id": "nwiILi-lpAbE"
      },
      "execution_count": null,
      "outputs": []
    },
    {
      "cell_type": "markdown",
      "source": [
        "<p>I used dir as my itteration while comparing dmi + hir + lvr + over self + single + C(ccs) + C(mcs)' The model makes sense because 50% is one of the ranges we can see in our graphs</p>"
      ],
      "metadata": {
        "id": "Yyz3NxOjHvaJ"
      }
    },
    {
      "cell_type": "markdown",
      "source": [
        "<h1>Test 2</h1>"
      ],
      "metadata": {
        "id": "eaYkn_0l7JZ4"
      }
    },
    {
      "cell_type": "code",
      "source": [
        "#use dmatrices to use for our data in our 2nd set\n",
        "p, q = dmatrices('hir ~ pbcr + single + \\\n",
        "                  black + deny + C(ccs) + C(mcs)',\n",
        "                  df, return_type=\"dataframe\")\n",
        "print(q.columns)"
      ],
      "metadata": {
        "colab": {
          "base_uri": "https://localhost:8080/"
        },
        "id": "zoKAmc9Y5vAX",
        "outputId": "6e28e8db-bd72-4245-d99c-45126428f8b8"
      },
      "execution_count": 217,
      "outputs": [
        {
          "output_type": "stream",
          "name": "stdout",
          "text": [
            "Index(['Intercept', 'C(ccs)[T.1]', 'C(ccs)[T.2]', 'C(ccs)[T.3]', 'C(ccs)[T.4]',\n",
            "       'C(ccs)[T.5]', 'C(ccs)[T.6]', 'C(mcs)[T.1]', 'C(mcs)[T.2]',\n",
            "       'C(mcs)[T.3]', 'C(mcs)[T.4]', 'pbcr', 'single', 'black', 'deny'],\n",
            "      dtype='object')\n"
          ]
        }
      ]
    },
    {
      "cell_type": "code",
      "source": [
        "# fix column names of X\n",
        "q = q.rename(columns = {'C(ccs)[T.1.0]':'ccs_1',\n",
        "                        'C(ccs)[T.2.0]':'ccs_2',\n",
        "                        'C(ccs)[T.3.0]':'ccs_3',\n",
        "                        'C(ccs)[T.4.0]':'ccs_4',\n",
        "                        'C(ccs)[T.5.0]':'ccs_5',\n",
        "                        'C(ccs)[T.6.0]':'ccs_6',\n",
        "                        'C(mcs)[T.1.0]':'mcs1',\n",
        "                        'C(mcs)[T.2.0]':'mcs2',\n",
        "                        'C(mcs)[T.3.0]':'mcs3',\n",
        "                        'C(mcs)[T.4.0]':'mcs4'})"
      ],
      "metadata": {
        "id": "JmdNWwOC6Qep"
      },
      "execution_count": 202,
      "outputs": []
    },
    {
      "cell_type": "code",
      "source": [
        "# flatten y into a 1-D array\n",
        "p = np.ravel(p)"
      ],
      "metadata": {
        "id": "j4RbMB4b6Qkw"
      },
      "execution_count": 203,
      "outputs": []
    },
    {
      "cell_type": "code",
      "source": [
        "# instantiate a logistic regression model, and fit with X and y\n",
        "model = LogisticRegression()\n",
        "model = model.fit(q, p)\n",
        "\n",
        "# check the accuracy on the training set\n",
        "model.score(q, p)"
      ],
      "metadata": {
        "colab": {
          "base_uri": "https://localhost:8080/"
        },
        "id": "YjvEKfu56XLR",
        "outputId": "8d41bc36-3aa2-44d3-d893-a39e24a0a908"
      },
      "execution_count": 218,
      "outputs": [
        {
          "output_type": "stream",
          "name": "stderr",
          "text": [
            "/usr/local/lib/python3.7/dist-packages/sklearn/utils/validation.py:993: DataConversionWarning: A column-vector y was passed when a 1d array was expected. Please change the shape of y to (n_samples, ), for example using ravel().\n",
            "  y = column_or_1d(y, warn=True)\n",
            "/usr/local/lib/python3.7/dist-packages/sklearn/linear_model/_logistic.py:818: ConvergenceWarning: lbfgs failed to converge (status=1):\n",
            "STOP: TOTAL NO. of ITERATIONS REACHED LIMIT.\n",
            "\n",
            "Increase the number of iterations (max_iter) or scale the data as shown in:\n",
            "    https://scikit-learn.org/stable/modules/preprocessing.html\n",
            "Please also refer to the documentation for alternative solver options:\n",
            "    https://scikit-learn.org/stable/modules/linear_model.html#logistic-regression\n",
            "  extra_warning_msg=_LOGISTIC_SOLVER_CONVERGENCE_MSG,\n"
          ]
        },
        {
          "output_type": "execute_result",
          "data": {
            "text/plain": [
              "0.0755984880302394"
            ]
          },
          "metadata": {},
          "execution_count": 218
        }
      ]
    },
    {
      "cell_type": "markdown",
      "source": [
        "<p>I used hir as my itteration while comparing pbcr + single + over black + deny + C(ccs) + C(mcs) The model does not makes sense because 75% is not what we can see in our graphs</p>"
      ],
      "metadata": {
        "id": "LMHpUKi5IcKg"
      }
    },
    {
      "cell_type": "markdown",
      "source": [
        "<h1>Test 3</h2>"
      ],
      "metadata": {
        "id": "tJ0jDO-57R21"
      }
    },
    {
      "cell_type": "code",
      "source": [
        "#use dmatrices to use for our data in our 3rd set\n",
        "s, t = dmatrices('deny ~ pbcr + single + \\\n",
        "                  uria  + C(ccs) + C(mcs)',\n",
        "                  df, return_type=\"dataframe\")\n",
        "print(q.columns)"
      ],
      "metadata": {
        "colab": {
          "base_uri": "https://localhost:8080/"
        },
        "id": "RqjWAnwq6XVz",
        "outputId": "ac666911-d525-40c2-8c11-61d53eb2636f"
      },
      "execution_count": 219,
      "outputs": [
        {
          "output_type": "stream",
          "name": "stdout",
          "text": [
            "Index(['Intercept', 'C(ccs)[T.1]', 'C(ccs)[T.2]', 'C(ccs)[T.3]', 'C(ccs)[T.4]',\n",
            "       'C(ccs)[T.5]', 'C(ccs)[T.6]', 'C(mcs)[T.1]', 'C(mcs)[T.2]',\n",
            "       'C(mcs)[T.3]', 'C(mcs)[T.4]', 'pbcr', 'single', 'black', 'deny'],\n",
            "      dtype='object')\n"
          ]
        }
      ]
    },
    {
      "cell_type": "code",
      "source": [
        "# fix column names of X\n",
        "t = t.rename(columns = {'C(ccs)[T.1.0]':'ccs_1',\n",
        "                        'C(ccs)[T.2.0]':'ccs_2',\n",
        "                        'C(ccs)[T.3.0]':'ccs_3',\n",
        "                        'C(ccs)[T.4.0]':'ccs_4',\n",
        "                        'C(ccs)[T.5.0]':'ccs_5',\n",
        "                        'C(ccs)[T.6.0]':'ccs_6',\n",
        "                        'C(mcs)[T.1.0]':'mcs1',\n",
        "                        'C(mcs)[T.2.0]':'mcs2',\n",
        "                        'C(mcs)[T.3.0]':'mcs3',\n",
        "                        'C(mcs)[T.4.0]':'mcs4'})"
      ],
      "metadata": {
        "id": "yP-VhEjM7pV6"
      },
      "execution_count": 212,
      "outputs": []
    },
    {
      "cell_type": "code",
      "source": [
        "# flatten y into a 1-D array\n",
        "s = np.ravel(s)"
      ],
      "metadata": {
        "id": "S13clNMM7qkw"
      },
      "execution_count": 213,
      "outputs": []
    },
    {
      "cell_type": "code",
      "source": [
        "# instantiate a logistic regression model, and fit with X and y\n",
        "model = LogisticRegression()\n",
        "model = model.fit(t, s)\n",
        "\n",
        "# check the accuracy on the training set\n",
        "model.score(t, s)"
      ],
      "metadata": {
        "colab": {
          "base_uri": "https://localhost:8080/"
        },
        "id": "3sWJ9SlL7uYW",
        "outputId": "ea5c4f03-99db-4918-8a77-253c89ff6604"
      },
      "execution_count": 220,
      "outputs": [
        {
          "output_type": "stream",
          "name": "stderr",
          "text": [
            "/usr/local/lib/python3.7/dist-packages/sklearn/utils/validation.py:993: DataConversionWarning: A column-vector y was passed when a 1d array was expected. Please change the shape of y to (n_samples, ), for example using ravel().\n",
            "  y = column_or_1d(y, warn=True)\n"
          ]
        },
        {
          "output_type": "execute_result",
          "data": {
            "text/plain": [
              "0.8866022679546409"
            ]
          },
          "metadata": {},
          "execution_count": 220
        }
      ]
    },
    {
      "cell_type": "markdown",
      "source": [
        "<p>I used deny as my itteration while comparing pbcr + single over uria  + C(ccs) + C(mcs)' The model does makes sense because 88% is what we can see in our graphs</p>"
      ],
      "metadata": {
        "id": "Sy7SlhURJYEi"
      }
    },
    {
      "cell_type": "markdown",
      "source": [
        "# Select Models "
      ],
      "metadata": {
        "id": "1-H8UCM3vXGF"
      }
    },
    {
      "cell_type": "markdown",
      "source": [
        "<p>I used dir hir and deny for my model selection criteria. I perferd the dir because it was one that was really close with the graphs. </p>"
      ],
      "metadata": {
        "id": "yhWSRkpJJtVi"
      }
    },
    {
      "cell_type": "markdown",
      "source": [
        "<p></p>"
      ],
      "metadata": {
        "id": "fkChTdoxHXra"
      }
    },
    {
      "cell_type": "markdown",
      "source": [
        "<p></p>"
      ],
      "metadata": {
        "id": "o0IKO6LM8hVi"
      }
    },
    {
      "cell_type": "markdown",
      "source": [
        "#Conclusion"
      ],
      "metadata": {
        "id": "tp6PeIvY8Hem"
      }
    },
    {
      "cell_type": "markdown",
      "source": [
        "<p>In conclusion, there was not allot 0's so we needed to changesthat in the datato create a more accurate results. Once the gaps were filled we then used regression models to see how we can iterate our data and see how it campares.We also used our domain knowledge to familirze our selves with the data to understand our data.</p>"
      ],
      "metadata": {
        "id": "QyxC2q2OvhAe"
      }
    }
  ]
}